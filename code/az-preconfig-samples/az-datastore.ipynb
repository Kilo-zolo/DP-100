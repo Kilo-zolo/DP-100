{
 "cells": [
  {
   "cell_type": "code",
   "execution_count": 1,
   "metadata": {},
   "outputs": [],
   "source": [
    "# Import Workspace & Datastore\n",
    "from azureml.core import Workspace, Datastore"
   ]
  },
  {
   "cell_type": "code",
   "execution_count": 2,
   "metadata": {},
   "outputs": [],
   "source": [
    "# Access the workspace from config.json\n",
    "ws = Workspace.from_config(\"/Users/Krish/dev/DP-100/config/azml-samp-config.json\")"
   ]
  },
  {
   "cell_type": "code",
   "execution_count": 4,
   "metadata": {},
   "outputs": [],
   "source": [
    "# Create a datastore\n",
    "ds = Datastore.register_azure_blob_container(\n",
    "    workspace=ws,\n",
    "    datastore_name=\"azml_samp_blob\",\n",
    "    account_name=\"zohds\",\n",
    "    container_name=\"datasets-ml\",\n",
    "    account_key=\"qsrfjQqzOyUZst1/z3cy2hA53LkXQ6Q+uSJfqt38wm+yBVHmVUdqiQHAuX7STk5tnyhW7CGsXhl6+AStSgZ20A==\"\n",
    ")"
   ]
  },
  {
   "cell_type": "code",
   "execution_count": null,
   "metadata": {},
   "outputs": [],
   "source": []
  }
 ],
 "metadata": {
  "kernelspec": {
   "display_name": "Python 3.9.12 ('base')",
   "language": "python",
   "name": "python3"
  },
  "language_info": {
   "codemirror_mode": {
    "name": "ipython",
    "version": 3
   },
   "file_extension": ".py",
   "mimetype": "text/x-python",
   "name": "python",
   "nbconvert_exporter": "python",
   "pygments_lexer": "ipython3",
   "version": "3.9.12"
  },
  "orig_nbformat": 4,
  "vscode": {
   "interpreter": {
    "hash": "3067ead486e059ec00ffe7555bdb889e6e264a24dc711bf108106cc7baee8d5d"
   }
  }
 },
 "nbformat": 4,
 "nbformat_minor": 2
}
